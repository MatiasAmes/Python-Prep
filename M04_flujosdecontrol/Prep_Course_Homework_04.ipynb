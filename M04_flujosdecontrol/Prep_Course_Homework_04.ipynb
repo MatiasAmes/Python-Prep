{
 "cells": [
  {
   "attachments": {},
   "cell_type": "markdown",
   "metadata": {},
   "source": [
    "## Flujos de Control"
   ]
  },
  {
   "attachments": {},
   "cell_type": "markdown",
   "metadata": {},
   "source": [
    "1) Crear una variable que contenga un elemento del conjunto de números enteros y luego imprimir por pantalla si es mayor o menor a cero"
   ]
  },
  {
   "cell_type": "code",
   "execution_count": 3,
   "metadata": {},
   "outputs": [
    {
     "name": "stdout",
     "output_type": "stream",
     "text": [
      "X es mayor que Y\n"
     ]
    }
   ],
   "source": [
    "x= 2\n",
    "y= 0\n",
    "if x < y: \n",
    "    print('X es menor que Y' )\n",
    "elif x > y:\n",
    "    print('X es mayor que Y')\n",
    "else:\n",
    "    print('Son iguales')"
   ]
  },
  {
   "attachments": {},
   "cell_type": "markdown",
   "metadata": {},
   "source": [
    "2) Crear dos variables y un condicional que informe si son del mismo tipo de dato"
   ]
  },
  {
   "cell_type": "code",
   "execution_count": 6,
   "metadata": {},
   "outputs": [
    {
     "name": "stdout",
     "output_type": "stream",
     "text": [
      "Tienen el mismo valor\n"
     ]
    }
   ],
   "source": [
    "x= 'el valor de Y'\n",
    "y= 'el valor de Y'\n",
    "if x == y:\n",
    "    print('Tienen el mismo valor')\n",
    "else:\n",
    "    print('Son diferentes datos')"
   ]
  },
  {
   "attachments": {},
   "cell_type": "markdown",
   "metadata": {},
   "source": [
    "3) Para los valores enteros del 1 al 20, imprimir por pantalla si es par o impar"
   ]
  },
  {
   "cell_type": "code",
   "execution_count": 15,
   "metadata": {},
   "outputs": [
    {
     "name": "stdout",
     "output_type": "stream",
     "text": [
      "1  Es impar\n",
      "2  Es par\n",
      "3  Es impar\n",
      "4  Es par\n",
      "5  Es impar\n",
      "6  Es par\n",
      "7  Es impar\n",
      "8  Es par\n",
      "9  Es impar\n",
      "10  Es par\n",
      "11  Es impar\n",
      "12  Es par\n",
      "13  Es impar\n",
      "14  Es par\n",
      "15  Es impar\n",
      "16  Es par\n",
      "17  Es impar\n",
      "18  Es par\n",
      "19  Es impar\n",
      "20  Es par\n"
     ]
    }
   ],
   "source": [
    "for n in range(1,21):\n",
    "    if n % 2 == 0:\n",
    "        print(n, ' Es par')\n",
    "    else:\n",
    "        print(n, ' Es impar')"
   ]
  },
  {
   "attachments": {},
   "cell_type": "markdown",
   "metadata": {},
   "source": [
    "4) En un ciclo for mostrar para los valores entre 0 y 5 el resultado de elevarlo a la potencia igual a 3"
   ]
  },
  {
   "cell_type": "code",
   "execution_count": 22,
   "metadata": {},
   "outputs": [
    {
     "name": "stdout",
     "output_type": "stream",
     "text": [
      "Valor de : 0  Elevado a la 3er potencia es: 0\n",
      "Valor de : 1  Elevado a la 3er potencia es: 1\n",
      "Valor de : 2  Elevado a la 3er potencia es: 8\n",
      "Valor de : 3  Elevado a la 3er potencia es: 27\n",
      "Valor de : 4  Elevado a la 3er potencia es: 64\n",
      "Valor de : 5  Elevado a la 3er potencia es: 125\n"
     ]
    }
   ],
   "source": [
    "for i in range(0,6):\n",
    "    print('Valor de :', str(i), ' Elevado a la 3er potencia es:', i**3)"
   ]
  },
  {
   "attachments": {},
   "cell_type": "markdown",
   "metadata": {},
   "source": [
    "5) Crear una variable que contenga un número entero y realizar un ciclo for la misma cantidad de ciclos"
   ]
  },
  {
   "cell_type": "code",
   "execution_count": 32,
   "metadata": {},
   "outputs": [
    {
     "name": "stdout",
     "output_type": "stream",
     "text": [
      "0\n",
      "1\n",
      "2\n",
      "3\n",
      "4\n",
      "5\n",
      "6\n",
      "7\n",
      "8\n",
      "9\n",
      "10\n",
      "11\n",
      "12\n",
      "13\n",
      "14\n",
      "15\n",
      "16\n",
      "17\n",
      "18\n",
      "19\n"
     ]
    }
   ],
   "source": [
    "x=20\n",
    "for i in range(x):\n",
    "    print(i)\n"
   ]
  },
  {
   "attachments": {},
   "cell_type": "markdown",
   "metadata": {},
   "source": [
    "6) Utilizar un ciclo while para realizar el factorial de un número guardado en una variable, sólo si la variable contiene un número entero mayor a 0"
   ]
  },
  {
   "cell_type": "code",
   "execution_count": 44,
   "metadata": {},
   "outputs": [
    {
     "name": "stdout",
     "output_type": "stream",
     "text": [
      "El factorial es 40320\n"
     ]
    }
   ],
   "source": [
    "numero = 8\n",
    "if (type(numero) == int):\n",
    "    if(numero > 0):\n",
    "        factorial = numero\n",
    "        while (numero > 2):\n",
    "            numero = numero - 1\n",
    "            factorial = factorial * numero\n",
    "        print('El factorial es', factorial)\n",
    "    else:\n",
    "        print('La variable no es mayor a 0')\n",
    "else:\n",
    "    print('La variable no es entero')"
   ]
  },
  {
   "attachments": {},
   "cell_type": "markdown",
   "metadata": {},
   "source": [
    "7) Crear un ciclo for dentro de un ciclo while"
   ]
  },
  {
   "cell_type": "code",
   "execution_count": 95,
   "metadata": {},
   "outputs": [
    {
     "name": "stdout",
     "output_type": "stream",
     "text": [
      "Ciclo While 14\n",
      "Ciclo for 14\n",
      "Ciclo While 13\n",
      "Ciclo for 13\n",
      "Ciclo While 12\n",
      "Ciclo for 12\n",
      "Ciclo While 11\n",
      "Ciclo for 11\n",
      "Ciclo While 10\n",
      "Ciclo for 10\n",
      "Ciclo While 9\n",
      "Ciclo for 9\n",
      "Ciclo While 8\n",
      "Ciclo for 8\n",
      "Ciclo While 7\n",
      "Ciclo for 7\n",
      "Ciclo While 6\n",
      "Ciclo for 6\n",
      "Ciclo While 5\n",
      "Ciclo for 5\n",
      "Ciclo While 4\n",
      "Ciclo for 4\n",
      "Ciclo While 3\n",
      "Ciclo for 3\n",
      "Ciclo While 2\n",
      "Ciclo for 2\n",
      "Ciclo While 1\n",
      "Ciclo for 1\n"
     ]
    }
   ],
   "source": [
    "x = 15\n",
    "while(x > 1):\n",
    "     x -= 1\n",
    "     print('Ciclo While ' + str(x))\n",
    "     for i in range(1):\n",
    "          print('Ciclo for ' + str(x))"
   ]
  },
  {
   "attachments": {},
   "cell_type": "markdown",
   "metadata": {},
   "source": [
    "8) Crear un ciclo while dentro de un ciclo for"
   ]
  },
  {
   "cell_type": "code",
   "execution_count": 123,
   "metadata": {},
   "outputs": [
    {
     "name": "stdout",
     "output_type": "stream",
     "text": [
      "Ciclo While : 3\n",
      "Ciclo For : 3\n",
      "Ciclo While : 2\n",
      "Ciclo For : 2\n",
      "Ciclo While : 1\n",
      "Ciclo For : 1\n"
     ]
    }
   ],
   "source": [
    "x = 4\n",
    "for i in range(1, x):\n",
    "    while (x > 1):\n",
    "        x -= 1\n",
    "        print('Ciclo While : ' + str(x))\n",
    "        print('Ciclo For : ' + str(x))"
   ]
  },
  {
   "attachments": {},
   "cell_type": "markdown",
   "metadata": {},
   "source": [
    "9) Imprimir los números primos existentes entre 0 y 30"
   ]
  },
  {
   "cell_type": "code",
   "execution_count": 42,
   "metadata": {},
   "outputs": [
    {
     "name": "stdout",
     "output_type": "stream",
     "text": [
      "0\n",
      "1\n",
      "2\n",
      "3\n",
      "5\n",
      "7\n",
      "11\n",
      "13\n",
      "17\n",
      "19\n",
      "23\n",
      "29\n"
     ]
    }
   ],
   "source": [
    "rango_maximo = 30\n",
    "n = 0\n",
    "primo = True\n",
    "while(n < rango_maximo):\n",
    "    for i in range(2, n):\n",
    "        if(n % i == 0):\n",
    "            primo = False\n",
    "    if (primo):\n",
    "        print(n)\n",
    "    else:\n",
    "        primo = True\n",
    "    n += 1"
   ]
  },
  {
   "attachments": {},
   "cell_type": "markdown",
   "metadata": {},
   "source": [
    "10) ¿Se puede mejorar el proceso del punto 9? Utilizar las sentencias break y/ó continue para tal fin"
   ]
  },
  {
   "cell_type": "code",
   "execution_count": 43,
   "metadata": {},
   "outputs": [
    {
     "name": "stdout",
     "output_type": "stream",
     "text": [
      "0\n",
      "1\n",
      "2\n",
      "3\n",
      "5\n",
      "7\n",
      "11\n",
      "13\n",
      "17\n",
      "19\n",
      "23\n",
      "29\n"
     ]
    }
   ],
   "source": [
    "rango_maximo = 30\n",
    "n = 0\n",
    "primo = True\n",
    "while(n < rango_maximo):\n",
    "    for i in range(2, n):\n",
    "        if(n % i == 0):\n",
    "            primo = False\n",
    "            break\n",
    "    if(primo):\n",
    "        print(n)\n",
    "    else:\n",
    "        primo = True\n",
    "    n += 1"
   ]
  },
  {
   "attachments": {},
   "cell_type": "markdown",
   "metadata": {},
   "source": [
    "11) En los puntos 9 y 10, se diseño un código que encuentra números primos y además se lo optimizó. ¿Es posible saber en qué medida se optimizó?"
   ]
  },
  {
   "cell_type": "code",
   "execution_count": 44,
   "metadata": {},
   "outputs": [
    {
     "name": "stdout",
     "output_type": "stream",
     "text": [
      "0\n",
      "1\n",
      "2\n",
      "3\n",
      "5\n",
      "7\n",
      "11\n",
      "13\n",
      "17\n",
      "19\n",
      "23\n",
      "29\n",
      "378 Ciclos\n"
     ]
    }
   ],
   "source": [
    "ciclos = 0\n",
    "rango_maximo = 30\n",
    "n = 0\n",
    "primo = True\n",
    "while(n < rango_maximo):\n",
    "    for i in range(2, n):\n",
    "        ciclos +=1\n",
    "        if(n % i == 0):\n",
    "            primo = False\n",
    "\n",
    "    if (primo):\n",
    "        print(n)\n",
    "    else:\n",
    "        primo = True\n",
    "    n += 1\n",
    "print(str(ciclos) + ' Ciclos')\n"
   ]
  },
  {
   "cell_type": "code",
   "execution_count": 46,
   "metadata": {},
   "outputs": [
    {
     "name": "stdout",
     "output_type": "stream",
     "text": [
      "0\n",
      "1\n",
      "2\n",
      "3\n",
      "5\n",
      "7\n",
      "11\n",
      "13\n",
      "17\n",
      "19\n",
      "23\n",
      "29\n",
      "378 Ciclos sin break\n",
      "134 Ciclos con Break\n",
      "35 % de optimización\n"
     ]
    }
   ],
   "source": [
    "ciclos1 = 0\n",
    "rango_maximo = 30\n",
    "n = 0\n",
    "primo = True\n",
    "while(n < rango_maximo):\n",
    "    for i in range(2, n):\n",
    "        ciclos1 +=1\n",
    "        if(n % i == 0):\n",
    "            primo = False\n",
    "            break\n",
    "    if (primo):\n",
    "        print(n)\n",
    "    else:\n",
    "        primo = True\n",
    "    n += 1\n",
    "print(str(ciclos) + ' Ciclos sin break')\n",
    "print(str(ciclos1) + ' Ciclos con Break')\n",
    "print(int(ciclos1 / ciclos * 100) , '% de optimización')\n"
   ]
  },
  {
   "attachments": {},
   "cell_type": "markdown",
   "metadata": {},
   "source": [
    "12) Aplicando continue, armar un ciclo while que solo imprima los valores divisibles por 12, dentro del rango de números de 100 a 300"
   ]
  },
  {
   "cell_type": "code",
   "execution_count": 24,
   "metadata": {},
   "outputs": [
    {
     "name": "stdout",
     "output_type": "stream",
     "text": [
      "108  Es divisible por 12\n",
      "120  Es divisible por 12\n",
      "132  Es divisible por 12\n",
      "144  Es divisible por 12\n",
      "156  Es divisible por 12\n",
      "168  Es divisible por 12\n",
      "180  Es divisible por 12\n",
      "192  Es divisible por 12\n",
      "204  Es divisible por 12\n",
      "216  Es divisible por 12\n",
      "228  Es divisible por 12\n",
      "240  Es divisible por 12\n",
      "252  Es divisible por 12\n",
      "264  Es divisible por 12\n",
      "276  Es divisible por 12\n",
      "288  Es divisible por 12\n",
      "300  Es divisible por 12\n"
     ]
    }
   ],
   "source": [
    "n= 99\n",
    "rango = 300\n",
    "while(n <= rango):\n",
    "    n +=1\n",
    "    if(n % 12 != 0):\n",
    "        continue\n",
    "    print(str(n), ' Es divisible por 12')\n",
    "   \n",
    "\n"
   ]
  },
  {
   "attachments": {},
   "cell_type": "markdown",
   "metadata": {},
   "source": [
    "13) Utilizar la función **input()** que permite hacer ingresos por teclado, para encontrar números primos y dar la opción al usario de buscar el siguiente"
   ]
  },
  {
   "cell_type": "code",
   "execution_count": 2,
   "metadata": {},
   "outputs": [],
   "source": []
  },
  {
   "attachments": {},
   "cell_type": "markdown",
   "metadata": {},
   "source": [
    "14) Crear un ciclo while que encuentre dentro del rango de 100 a 300 el primer número divisible por 3 y además múltiplo de 6"
   ]
  },
  {
   "cell_type": "code",
   "execution_count": 10,
   "metadata": {},
   "outputs": [
    {
     "name": "stdout",
     "output_type": "stream",
     "text": [
      "El número es:  102\n"
     ]
    }
   ],
   "source": [
    "n= 99\n",
    "while(n <= 300):\n",
    "    if n % 6 == 0:\n",
    "        print('El número es: ', str(n))\n",
    "        break\n",
    "    n += 1"
   ]
  }
 ],
 "metadata": {
  "interpreter": {
   "hash": "c85384e4cb51c8b72350f3a8712cc8351fdc3955e32a27f9b60c6242ab125f01"
  },
  "kernelspec": {
   "display_name": "Python 3 (ipykernel)",
   "language": "python",
   "name": "python3"
  },
  "language_info": {
   "codemirror_mode": {
    "name": "ipython",
    "version": 3
   },
   "file_extension": ".py",
   "mimetype": "text/x-python",
   "name": "python",
   "nbconvert_exporter": "python",
   "pygments_lexer": "ipython3",
   "version": "3.12.0"
  }
 },
 "nbformat": 4,
 "nbformat_minor": 4
}
